{
 "cells": [
  {
   "cell_type": "code",
   "execution_count": 31,
   "metadata": {
    "pycharm": {
     "name": "#%%\n"
    }
   },
   "outputs": [
    {
     "data": {
      "text/plain": "Index(['age', 'height', 'weight', 'bellyCirc', 'waistCirc', 'wristCirc',\n       'neckCirc', 'ArmLength', 'ThighCirc', 'shoulderWidth', 'Hips',\n       'armfitCirc', 'inseam', 'bodyLength', 'headCirc', 'hipLength',\n       'shoulderDegree'],\n      dtype='object')"
     },
     "execution_count": 31,
     "metadata": {},
     "output_type": "execute_result"
    }
   ],
   "source": [
    "import pandas as pd\n",
    "\n",
    "classdata = pd.read_csv('mclass.csv')\n",
    "classdf = pd.DataFrame(classdata)\n",
    "classdf.dropna(axis=0, inplace=True)\n",
    "\n",
    "cols = classdf.columns\n",
    "cols"
   ]
  },
  {
   "cell_type": "code",
   "execution_count": 32,
   "metadata": {},
   "outputs": [],
   "source": [
    "# classdf['type'] = ['']*830"
   ]
  },
  {
   "cell_type": "code",
   "execution_count": 33,
   "metadata": {
    "pycharm": {
     "name": "#%%\n"
    }
   },
   "outputs": [],
   "source": [
    "for col in cols:\n",
    "  for i in range(classdf.shape[0]):\n",
    "    if classdf[col].iat[i] == '#VALUE!':\n",
    "      classdf[col].iat[i] = 0\n",
    "  else:\n",
    "    classdf[col].iat[i] = float(classdf[col].iat[i])\n",
    "classdf['bodyvalue'] = classdf['weight'] + classdf['bellyCirc'] + classdf['armfitCirc'] + classdf[\n",
    "  'waistCirc']"
   ]
  },
  {
   "cell_type": "code",
   "execution_count": 34,
   "metadata": {},
   "outputs": [],
   "source": [
    "m2classdf = pd.DataFrame({'quantile': [0.25, 0.5, 0.75]})\n",
    "m3classdf = pd.DataFrame({'quantile': [0.25, 0.5, 0.75]})\n",
    "m4classdf = pd.DataFrame({'quantile': [0.25, 0.5, 0.75]})\n",
    "m5classdf = pd.DataFrame({'quantile': [0.25, 0.5, 0.75]})\n",
    "m6classdf = pd.DataFrame({'quantile': [0.25, 0.5, 0.75]})"
   ]
  },
  {
   "cell_type": "code",
   "execution_count": null,
   "outputs": [],
   "source": [
    "start = 20\n",
    "end = 30\n",
    "df_20 = classdf[(classdf['age'] >= start) & (classdf['age'] < end)]\n",
    "start = 30\n",
    "end = start + 10\n",
    "df_30 = classdf[(classdf['age'] >= start) & (classdf['age'] < end)]\n",
    "start = 40\n",
    "end = start + 10\n",
    "df_40 = classdf[(classdf['age'] >= start) & (classdf['age'] < end)]\n",
    "start = 50\n",
    "end = start + 10\n",
    "df_50 = classdf[(classdf['age'] >= start) & (classdf['age'] < end)]\n",
    "start = 60\n",
    "end = start + 10\n",
    "df_60 = classdf[(classdf['age'] >= start) & (classdf['age'] < end)]"
   ],
   "metadata": {
    "collapsed": false,
    "pycharm": {
     "name": "#%%\n"
    }
   }
  },
  {
   "cell_type": "code",
   "execution_count": 35,
   "metadata": {
    "pycharm": {
     "name": "#%%\n"
    },
    "scrolled": true
   },
   "outputs": [
    {
     "data": {
      "text/plain": "   quantile   age  height  weight  bellyCirc  waistCirc  wristCirc  neckCirc  \\\n0      0.25  23.0   167.0    60.0       75.0       73.0       16.0      35.0   \n1      0.50  25.0   172.0    67.0       81.0       78.0       17.0      36.0   \n2      0.75  27.0   176.0    73.0       87.0       84.0       18.0      38.0   \n\n   ArmLength  ThighCirc  shoulderWidth  Hips  armfitCirc  inseam  bodyLength  \\\n0       55.0       53.0           42.0  90.0       37.00    75.0        25.0   \n1       57.0       56.0           44.0  94.0       41.00    78.0        29.0   \n2       59.0       60.0           46.0  98.0       43.25    80.0        62.0   \n\n   headCirc  hipLength  shoulderDegree  bodyvalue  \n0      57.0       19.0            24.0     249.75  \n1      58.0       22.0            26.0     269.00  \n2      59.0       26.0            28.0     286.00  ",
      "text/html": "<div>\n<style scoped>\n    .dataframe tbody tr th:only-of-type {\n        vertical-align: middle;\n    }\n\n    .dataframe tbody tr th {\n        vertical-align: top;\n    }\n\n    .dataframe thead th {\n        text-align: right;\n    }\n</style>\n<table border=\"1\" class=\"dataframe\">\n  <thead>\n    <tr style=\"text-align: right;\">\n      <th></th>\n      <th>quantile</th>\n      <th>age</th>\n      <th>height</th>\n      <th>weight</th>\n      <th>bellyCirc</th>\n      <th>waistCirc</th>\n      <th>wristCirc</th>\n      <th>neckCirc</th>\n      <th>ArmLength</th>\n      <th>ThighCirc</th>\n      <th>shoulderWidth</th>\n      <th>Hips</th>\n      <th>armfitCirc</th>\n      <th>inseam</th>\n      <th>bodyLength</th>\n      <th>headCirc</th>\n      <th>hipLength</th>\n      <th>shoulderDegree</th>\n      <th>bodyvalue</th>\n    </tr>\n  </thead>\n  <tbody>\n    <tr>\n      <th>0</th>\n      <td>0.25</td>\n      <td>23.0</td>\n      <td>167.0</td>\n      <td>60.0</td>\n      <td>75.0</td>\n      <td>73.0</td>\n      <td>16.0</td>\n      <td>35.0</td>\n      <td>55.0</td>\n      <td>53.0</td>\n      <td>42.0</td>\n      <td>90.0</td>\n      <td>37.00</td>\n      <td>75.0</td>\n      <td>25.0</td>\n      <td>57.0</td>\n      <td>19.0</td>\n      <td>24.0</td>\n      <td>249.75</td>\n    </tr>\n    <tr>\n      <th>1</th>\n      <td>0.50</td>\n      <td>25.0</td>\n      <td>172.0</td>\n      <td>67.0</td>\n      <td>81.0</td>\n      <td>78.0</td>\n      <td>17.0</td>\n      <td>36.0</td>\n      <td>57.0</td>\n      <td>56.0</td>\n      <td>44.0</td>\n      <td>94.0</td>\n      <td>41.00</td>\n      <td>78.0</td>\n      <td>29.0</td>\n      <td>58.0</td>\n      <td>22.0</td>\n      <td>26.0</td>\n      <td>269.00</td>\n    </tr>\n    <tr>\n      <th>2</th>\n      <td>0.75</td>\n      <td>27.0</td>\n      <td>176.0</td>\n      <td>73.0</td>\n      <td>87.0</td>\n      <td>84.0</td>\n      <td>18.0</td>\n      <td>38.0</td>\n      <td>59.0</td>\n      <td>60.0</td>\n      <td>46.0</td>\n      <td>98.0</td>\n      <td>43.25</td>\n      <td>80.0</td>\n      <td>62.0</td>\n      <td>59.0</td>\n      <td>26.0</td>\n      <td>28.0</td>\n      <td>286.00</td>\n    </tr>\n  </tbody>\n</table>\n</div>"
     },
     "execution_count": 35,
     "metadata": {},
     "output_type": "execute_result"
    }
   ],
   "source": [
    "cols = ['age', 'height', 'weight', 'bellyCirc', 'waistCirc',\n",
    "        'wristCirc', 'neckCirc', 'ArmLength', 'ThighCirc', 'shoulderWidth',\n",
    "        'Hips', 'armfitCirc', 'inseam', 'bodyLength', 'headCirc', 'hipLength',\n",
    "        'shoulderDegree', 'bodyvalue']\n",
    "\n",
    "for col in cols:\n",
    "  m2classdf[col] = df_20[col].quantile(q=0.25), df_20[col].quantile(q=0.5), df_20[col].quantile(\n",
    "      q=0.75)\n",
    "  m3classdf[col] = df_30[col].quantile(q=0.25), df_30[col].quantile(q=0.5), df_30[col].quantile(\n",
    "      q=0.75)\n",
    "  m4classdf[col] = df_40[col].quantile(q=0.25), df_40[col].quantile(q=0.5), df_40[col].quantile(\n",
    "      q=0.75)\n",
    "  m5classdf[col] = df_50[col].quantile(q=0.25), df_50[col].quantile(q=0.5), df_50[col].quantile(\n",
    "      q=0.75)\n",
    "  m6classdf[col] = df_60[col].quantile(q=0.25), df_60[col].quantile(q=0.5), df_60[col].quantile(\n",
    "      q=0.75)\n",
    "\n",
    "m2classdf"
   ]
  },
  {
   "cell_type": "code",
   "execution_count": 36,
   "metadata": {},
   "outputs": [],
   "source": [
    "newmaledf = classdf.copy()\n",
    "newmaledf['type'] = ['0'] * 830\n",
    "type20 = ['20srtm', '20btm', '20qm', '20avgm']\n",
    "type30 = ['30srtm', '30bqm', '30rtm', '30sqm', '30avgm']\n",
    "type40 = ['40rtm', '40sqm','40tm','40btm', '40avgm']\n",
    "type50 = ['50sqm', '50bqm','50tm','50qm', '50avgm']\n",
    "type60 = ['60brtm', '60tm', '60rtm','60sqm', '60avgm']"
   ]
  },
  {
   "cell_type": "code",
   "execution_count": 45,
   "metadata": {
    "pycharm": {
     "name": "#%%\n"
    }
   },
   "outputs": [
    {
     "data": {
      "text/plain": "20avgm    269\n30avgm    244\n40avgm     79\n50avgm     44\n30bqm      38\n50qm       28\n60avgm     26\n60sqm      19\n30srtm     17\n20srtm     16\n20btm      14\n60brtm     13\n40rtm       6\n20qm        5\n50sqm       3\n40sqm       3\n30sqm       3\n60rtm       3\nName: type, dtype: int64"
     },
     "execution_count": 45,
     "metadata": {},
     "output_type": "execute_result"
    }
   ],
   "source": [
    "for i in range(newmaledf.shape[0]):\n",
    "  if classdf.iloc[i].age in range(20, 30):\n",
    "    if ((classdf.iloc[i]['bodyvalue'] <= m2classdf['bodyvalue'].iat[1]) and (classdf.iloc[i]['shoulderWidth'] >= m2classdf['shoulderWidth'].iat[1]) and (classdf.iloc[i]['ArmLength'] >= m2classdf['ArmLength'].iat[1]) and (classdf.iloc[i]['hipLength'] <= m2classdf['hipLength'].iat[1]) and (classdf.iloc[i]['inseam'] >= classdf.iloc[i]['bodyLength']) and classdf.iloc[i]['headCirc'] >m2classdf['headCirc'].iat[1]):\n",
    "      newmaledf.loc[i, 'type'] = type20[0]\n",
    "    elif ((classdf.iloc[i]['bodyvalue'] >= m2classdf['bodyvalue'].iat[1]) and (classdf.iloc[i]['ArmLength'] >= m2classdf['ArmLength'].iat[1]) and (classdf.iloc[i]['hipLength'] <= m2classdf['hipLength'].iat[1]) and (classdf.iloc[i]['inseam'] >= classdf.iloc[i]['bodyLength']) and (classdf.iloc[i]['headCirc'] <= m2classdf['headCirc'].iat[1]) and (classdf.iloc[i]['hipLength'] < m2classdf['hipLength'].iat[1])):\n",
    "      newmaledf.loc[i, 'type'] = type20[1]\n",
    "    elif ((classdf.iloc[i]['ArmLength'] <= m2classdf['ArmLength'].iat[1]) and (classdf.iloc[i]['hipLength'] <= m2classdf['hipLength'].iat[1]) and (classdf.iloc[i]['headCirc'] <= m2classdf['headCirc'].iat[1]) and (classdf.iloc[i]['hipLength'] >= m2classdf['hipLength'].iat[1])):\n",
    "      newmaledf.loc[i, 'type'] = type20[2]\n",
    "    else:\n",
    "      newmaledf.loc[i, 'type'] = type20[3]\n",
    "\n",
    "  elif classdf.iloc[i].age in range(30, 40):\n",
    "    if ((classdf.iloc[i]['bodyvalue'] <= m3classdf['bodyvalue'].iat[1])and(classdf.iloc[i]['ArmLength'] >= m3classdf['ArmLength'].iat[2]) and (classdf.iloc[i]['headCirc'] <= m3classdf['headCirc'].iat[1]) and (classdf.iloc[i]['inseam'] >= classdf.iloc[i]['bodyLength'])):\n",
    "      newmaledf.loc[i, 'type'] = type30[0]\n",
    "    elif((classdf.iloc[i]['bodyvalue'] >= m3classdf['bodyvalue'].iat[1]) and (classdf.iloc[i]['shoulderWidth'] <= m3classdf['shoulderWidth'].iat[1]) and (classdf.iloc[i]['ArmLength'] <= m2classdf['ArmLength'].iat[1])  and (classdf.iloc[i]['inseam'] >= classdf.iloc[i]['bodyLength'])):\n",
    "      newmaledf.loc[i, 'type'] = type30[1]\n",
    "    elif((newmaledf.iloc[i]['shoulderWidth'] >= m3classdf['shoulderWidth'].iat[2]) and (newmaledf.iloc[i]['headCirc'] >= m3classdf['headCirc'].iat[2]) and (classdf.iloc[i]['hipLength'] > m3classdf['hipLength'].iat[1]) and(classdf.iloc[i]['inseam'] < classdf.iloc[i]['bodyLength'])):\n",
    "      newmaledf.loc[i, 'type'] =type30[2]\n",
    "    elif((newmaledf.iloc[i]['bodyvalue'] <= m3classdf['bodyvalue'].iat[1]) and (classdf.iloc[i]['shoulderWidth'] <= m3classdf['shoulderWidth'].iat[1]) and (classdf.iloc[i]['ArmLength'] <= m2classdf['ArmLength'].iat[1]) and (newmaledf.iloc[i]['headCirc'] >= m3classdf['headCirc'].iat[2]) and (classdf.iloc[i]['hipLength'] > m3classdf['hipLength'].iat[1])):\n",
    "      newmaledf.loc[i, 'type'] = type30[3]\n",
    "    else:\n",
    "      newmaledf.loc[i, 'type'] = type30[4]\n",
    "  elif classdf.iloc[i].age in range(40, 50):\n",
    "    if((classdf.iloc[i]['bodyvalue'] >= m4classdf['bodyvalue'].iat[1]) and(classdf.iloc[i]['shoulderWidth'] >= m4classdf['shoulderWidth'].iat[1]) and (classdf.iloc[i]['headCirc'] <= m4classdf['headCirc'].iat[1]) and ((classdf.iloc[i]['hipLength'] < m4classdf['hipLength'].iat[1]))):\n",
    "        newmaledf.loc[i, 'type'] = type40[0]\n",
    "    elif ((classdf.iloc[i]['bodyvalue'] <= m4classdf['bodyvalue'].iat[1]) and (classdf.iloc[i]['shoulderWidth'] <= m4classdf['shoulderWidth'].iat[1]) and (classdf.iloc[i]['ArmLength'] >= m4classdf['ArmLength'].iat[1]) and (classdf.iloc[i]['headCirc'] >= m4classdf['headCirc'].iat[1]) and (classdf.iloc[i]['hipLength'] <= m4classdf['hipLength'].iat[1]) and (classdf.iloc[i]['inseam'] >= classdf.iloc[i]['bodyLength']) ):\n",
    "       newmaledf.loc[i, 'type'] = type40[1]\n",
    "    elif ((classdf.iloc[i]['shoulderWidth'] <= m4classdf['shoulderWidth'].iat[1]) and (classdf.iloc[i]['ArmLength'] <= m4classdf['ArmLength'].iat[0]) and (classdf.iloc[i]['headCirc'] <= m4classdf['headCirc'].iat[0]) and  (classdf.iloc[i]['hipLength'] > m4classdf['hipLength'].iat[1]) and(classdf.iloc[i]['inseam'] < classdf.iloc[i]['bodyLength'])):\n",
    "      newnakedf.loc[i, 'type'] = type40[2]\n",
    "    elif ((classdf.iloc[i]['bodyvalue'] >= m4classdf['bodyvalue'].iat[2]) and (classdf.iloc[i]['shoulderWidth'] >= m4classdf['shoulderWidth'].iat[1])  and (classdf.iloc[i]['headCirc'] >= m4classdf['headCirc'].iat[2]) and ((classdf.iloc[i]['hipLength'] > m4classdf['hipLength'].iat[1]) and(classdf.iloc[i]['inseam'] < classdf.iloc[i]['bodyLength']))):\n",
    "      newmaledf.loc[i, 'type'] = type40[3]\n",
    "    else:\n",
    "      newmaledf.loc[i, 'type'] =type40[4]\n",
    "  elif classdf.iloc[i].age in range(50, 60):\n",
    "      if ((classdf.iloc[i]['bodyvalue'] <= m5classdf['bodyvalue'].iat[1]) and (classdf.iloc[i]['shoulderWidth'] <= m5classdf['shoulderWidth'].iat[1]) and (classdf.iloc[i]['ArmLength'] <= m5classdf['ArmLength'].iat[0]) and (classdf.iloc[i]['hipLength'] >= m5classdf['hipLength'].iat[1]) and (classdf.iloc[i]['inseam'] >= classdf.iloc[i]['bodyLength'])):\n",
    "        newmaledf.loc[i, 'type'] =type50[0]\n",
    "      elif((classdf.iloc[i]['bodyvalue'] >= m5classdf['bodyvalue'].iat[1]) and (classdf.iloc[i]['shoulderWidth'] >= m5classdf['shoulderWidth'].iat[1]) and (classdf.iloc[i]['ArmLength'] <= m5classdf['ArmLength'].iat[0]) and (classdf.iloc[i]['hipLength'] >= m5classdf['hipLength'].iat[1]) and (classdf.iloc[i]['inseam'] <= classdf.iloc[i]['bodyLength'])):\n",
    "        newmaledf.loc[i, 'type'] =type50[1]\n",
    "      elif ((classdf.iloc[i]['shoulderWidth'] >= m5classdf['shoulderWidth'].iat[1]) and (classdf.iloc[i]['ArmLength'] >= m5classdf['ArmLength'].iat[2]) and (classdf.iloc[i]['hipLength'] >= m5classdf['hipLength'].iat[1]) and (classdf.iloc[i]['inseam'] <= classdf.iloc[i]['bodyLength'])):\n",
    "        newmaledf.loc[i, 'type'] =type50[2]\n",
    "      elif ( (classdf.iloc[i]['ArmLength'] >= m5classdf['ArmLength'].iat[0]) and (classdf.iloc[i]['hipLength'] <= m5classdf['hipLength'].iat[1]) and (classdf.iloc[i]['inseam'] >= classdf.iloc[i]['bodyLength']) ):\n",
    "        newmaledf.loc[i, 'type'] =type50[3]\n",
    "      else:\n",
    "        newmaledf.loc[i, 'type'] =type50[4]\n",
    "  else:\n",
    "    if((classdf.iloc[i]['shoulderWidth'] >= m6classdf['shoulderWidth'].iat[2]) and (classdf.iloc[i]['hipLength'] >= m6classdf['hipLength'].iat[0])):\n",
    "      newmaledf.loc[i, 'type'] =type60[0]\n",
    "    elif ((classdf.iloc[i]['shoulderWidth'] <= m6classdf['shoulderWidth'].iat[0]) and (classdf.iloc[i]['ArmLength'] >= m6classdf['ArmLength'].iat[1]) and (classdf.iloc[i]['headCirc'] <= m6classdf['headCirc'].iat[1]) and (classdf.iloc[i]['hipLength'] >= m6classdf['hipLength'].iat[1]) and (classdf.iloc[i]['inseam'] <= classdf.iloc[i]['bodyLength'])):\n",
    "      newmaledf.loc[i, 'type'] = type60[1]\n",
    "    elif((classdf.iloc[i]['shoulderWidth'] >= m6classdf['shoulderWidth'].iat[1]) and (classdf.iloc[i]['ArmLength'] <= m6classdf['ArmLength'].iat[1]) and (classdf.iloc[i]['headCirc'] >= m6classdf['headCirc'].iat[1]) and (classdf.iloc[i]['hipLength'] >= m6classdf['hipLength'].iat[2])) :\n",
    "      newmaledf.loc[i, 'type'] =type60[2]\n",
    "    elif ((classdf.iloc[i]['bodyvalue'] <= m6classdf['bodyvalue'].iat[1]) and (classdf.iloc[i]['shoulderWidth'] <= m6classdf['shoulderWidth'].iat[1]) and (classdf.iloc[i]['inseam'] >= classdf.iloc[i]['bodyLength'])):\n",
    "      newmaledf.loc[i, 'type'] =type60[3]\n",
    "    else:\n",
    "      newmaledf.loc[i, 'type'] =type60[4]\n",
    "newmaledf['type'].value_counts()"
   ]
  },
  {
   "cell_type": "code",
   "execution_count": 46,
   "outputs": [],
   "source": [
    "newmaledf.to_csv('newmale.csv')\n"
   ],
   "metadata": {
    "collapsed": false,
    "pycharm": {
     "name": "#%%\n"
    }
   }
  },
  {
   "cell_type": "code",
   "execution_count": 47,
   "outputs": [
    {
     "data": {
      "text/plain": "Index(['age', 'height', 'weight', 'bellyCirc', 'waistCirc', 'wristCirc',\n       'neckCirc', 'ArmLength', 'ThighCirc', 'shoulderWidth', 'Hips',\n       'armfitCirc', 'inseam', 'bodyLength', 'headCirc', 'hipLength',\n       'shoulderDegree'],\n      dtype='object')"
     },
     "execution_count": 47,
     "metadata": {},
     "output_type": "execute_result"
    }
   ],
   "source": [
    "import pandas as pd\n",
    "\n",
    "classdata = pd.read_csv('fclass.csv')\n",
    "classdf = pd.DataFrame(classdata)\n",
    "classdf.dropna(axis=0, inplace=True)\n",
    "\n",
    "cols = classdf.columns\n",
    "cols"
   ],
   "metadata": {
    "collapsed": false,
    "pycharm": {
     "name": "#%%\n"
    }
   }
  },
  {
   "cell_type": "code",
   "execution_count": 48,
   "outputs": [],
   "source": [
    "# classdf['type'] = ['']*830"
   ],
   "metadata": {
    "collapsed": false,
    "pycharm": {
     "name": "#%%\n"
    }
   }
  },
  {
   "cell_type": "code",
   "execution_count": 49,
   "outputs": [],
   "source": [
    "for col in cols:\n",
    "  for i in range(classdf.shape[0]):\n",
    "    if classdf[col].iat[i] == '#VALUE!':\n",
    "      classdf[col].iat[i] = 0\n",
    "  else:\n",
    "    classdf[col].iat[i] = float(classdf[col].iat[i])\n",
    "classdf['bodyvalue'] = classdf['weight'] + classdf['bellyCirc'] + classdf['armfitCirc'] + classdf[\n",
    "  'waistCirc']"
   ],
   "metadata": {
    "collapsed": false,
    "pycharm": {
     "name": "#%%\n"
    }
   }
  },
  {
   "cell_type": "code",
   "execution_count": null,
   "outputs": [],
   "source": [
    "start = 20\n",
    "end = 30\n",
    "df_20 = classdf[(classdf['age'] >= start) & (classdf['age'] < end)]\n",
    "start = 30\n",
    "end = start + 10\n",
    "df_30 = classdf[(classdf['age'] >= start) & (classdf['age'] < end)]\n",
    "start = 40\n",
    "end = start + 10\n",
    "df_40 = classdf[(classdf['age'] >= start) & (classdf['age'] < end)]\n",
    "start = 50\n",
    "end = start + 10\n",
    "df_50 = classdf[(classdf['age'] >= start) & (classdf['age'] < end)]\n",
    "start = 60\n",
    "end = start + 10\n",
    "df_60 = classdf[(classdf['age'] >= start) & (classdf['age'] < end)]\n"
   ],
   "metadata": {
    "collapsed": false,
    "pycharm": {
     "name": "#%%\n"
    }
   }
  },
  {
   "cell_type": "code",
   "execution_count": 52,
   "outputs": [],
   "source": [
    "for col in cols:\n",
    "  f2classdf[col] = df_20[col].quantile(q=0.25), df_20[col].quantile(q=0.5), df_20[col].quantile(\n",
    "      q=0.75)\n",
    "  f3classdf[col] = df_30[col].quantile(q=0.25), df_30[col].quantile(q=0.5), df_30[col].quantile(\n",
    "      q=0.75)\n",
    "  f4classdf[col] = df_40[col].quantile(q=0.25), df_40[col].quantile(q=0.5), df_40[col].quantile(\n",
    "      q=0.75)\n",
    "  f5classdf[col] = df_50[col].quantile(q=0.25), df_50[col].quantile(q=0.5), df_50[col].quantile(\n",
    "      q=0.75)\n",
    "  f6classdf[col] = df_60[col].quantile(q=0.25), df_60[col].quantile(q=0.5), df_60[col].quantile(\n",
    "      q=0.75)\n"
   ],
   "metadata": {
    "collapsed": false,
    "pycharm": {
     "name": "#%%\n"
    }
   }
  },
  {
   "cell_type": "code",
   "execution_count": 53,
   "outputs": [],
   "source": [
    "f2classdf = pd.DataFrame({'quantile': [0.25, 0.5, 0.75]})\n",
    "f3classdf = pd.DataFrame({'quantile': [0.25, 0.5, 0.75]})\n",
    "f4classdf = pd.DataFrame({'quantile': [0.25, 0.5, 0.75]})\n",
    "f5classdf = pd.DataFrame({'quantile': [0.25, 0.5, 0.75]})\n",
    "f6classdf = pd.DataFrame({'quantile': [0.25, 0.5, 0.75]})\n"
   ],
   "metadata": {
    "collapsed": false,
    "pycharm": {
     "name": "#%%\n"
    }
   }
  },
  {
   "cell_type": "code",
   "execution_count": 54,
   "outputs": [],
   "source": [
    "cols = ['age', 'height', 'weight', 'bellyCirc', 'waistCirc',\n",
    "        'wristCirc', 'neckCirc', 'ArmLength', 'ThighCirc', 'shoulderWidth',\n",
    "        'Hips', 'armfitCirc', 'inseam', 'bodyLength', 'headCirc', 'hipLength',\n",
    "        'shoulderDegree', 'bodyvalue']\n",
    "\n",
    "for col in cols:\n",
    "  f2classdf[col] = df_20[col].quantile(q=0.25), df_20[col].quantile(q=0.5), df_20[col].quantile(\n",
    "      q=0.75)\n",
    "  f3classdf[col] = df_30[col].quantile(q=0.25), df_30[col].quantile(q=0.5), df_30[col].quantile(\n",
    "      q=0.75)\n",
    "  f4classdf[col] = df_40[col].quantile(q=0.25), df_40[col].quantile(q=0.5), df_40[col].quantile(\n",
    "      q=0.75)\n",
    "  f5classdf[col] = df_50[col].quantile(q=0.25), df_50[col].quantile(q=0.5), df_50[col].quantile(\n",
    "      q=0.75)\n",
    "  f6classdf[col] = df_60[col].quantile(q=0.25), df_60[col].quantile(q=0.5), df_60[col].quantile(\n",
    "      q=0.75)"
   ],
   "metadata": {
    "collapsed": false,
    "pycharm": {
     "name": "#%%\n"
    }
   }
  },
  {
   "cell_type": "code",
   "execution_count": 55,
   "outputs": [],
   "source": [
    "type20 = ['20srtf','20btf','20rtf','20qf','30avgf']\n",
    "type30 = ['30sqllf','30tf','30bqf','30sqslf','30avgf']\n",
    "type40 = ['40qf','40srtf','40rft','40btf','40avgf']\n",
    "type50 = ['50qf','50tf','50rtf','50avgf']\n",
    "type60 = ['60srtf','60bqf','60qf','60tf','60avgf']"
   ],
   "metadata": {
    "collapsed": false,
    "pycharm": {
     "name": "#%%\n"
    }
   }
  },
  {
   "cell_type": "code",
   "execution_count": 56,
   "outputs": [],
   "source": [
    "newfemaledf = classdf.copy()"
   ],
   "metadata": {
    "collapsed": false,
    "pycharm": {
     "name": "#%%\n"
    }
   }
  },
  {
   "cell_type": "code",
   "execution_count": 59,
   "outputs": [
    {
     "ename": "ValueError",
     "evalue": "The truth value of a Series is ambiguous. Use a.empty, a.bool(), a.item(), a.any() or a.all().",
     "output_type": "error",
     "traceback": [
      "\u001B[0;31m---------------------------------------------------------------------------\u001B[0m",
      "\u001B[0;31mValueError\u001B[0m                                Traceback (most recent call last)",
      "\u001B[0;32m<ipython-input-59-204681d99ce8>\u001B[0m in \u001B[0;36m<module>\u001B[0;34m\u001B[0m\n\u001B[1;32m      7\u001B[0m     \u001B[0;32melif\u001B[0m \u001B[0;34m(\u001B[0m\u001B[0;34m(\u001B[0m\u001B[0mclassdf\u001B[0m\u001B[0;34m.\u001B[0m\u001B[0miloc\u001B[0m\u001B[0;34m[\u001B[0m\u001B[0mi\u001B[0m\u001B[0;34m]\u001B[0m\u001B[0;34m[\u001B[0m\u001B[0;34m'shoulderWidth'\u001B[0m\u001B[0;34m]\u001B[0m \u001B[0;34m>=\u001B[0m \u001B[0mf2classdf\u001B[0m\u001B[0;34m[\u001B[0m\u001B[0;34m'shoulderWidth'\u001B[0m\u001B[0;34m]\u001B[0m\u001B[0;34m.\u001B[0m\u001B[0miat\u001B[0m\u001B[0;34m[\u001B[0m\u001B[0;36m1\u001B[0m\u001B[0;34m]\u001B[0m\u001B[0;34m)\u001B[0m \u001B[0;32mand\u001B[0m \u001B[0;34m(\u001B[0m\u001B[0mclassdf\u001B[0m\u001B[0;34m.\u001B[0m\u001B[0miloc\u001B[0m\u001B[0;34m[\u001B[0m\u001B[0mi\u001B[0m\u001B[0;34m]\u001B[0m\u001B[0;34m[\u001B[0m\u001B[0;34m'ArmLength'\u001B[0m\u001B[0;34m]\u001B[0m \u001B[0;34m<=\u001B[0m \u001B[0mf2classdf\u001B[0m\u001B[0;34m[\u001B[0m\u001B[0;34m'ArmLength'\u001B[0m\u001B[0;34m]\u001B[0m\u001B[0;34m.\u001B[0m\u001B[0miat\u001B[0m\u001B[0;34m[\u001B[0m\u001B[0;36m1\u001B[0m\u001B[0;34m]\u001B[0m\u001B[0;34m)\u001B[0m\u001B[0;34m)\u001B[0m\u001B[0;34m:\u001B[0m\u001B[0;34m\u001B[0m\u001B[0;34m\u001B[0m\u001B[0m\n\u001B[1;32m      8\u001B[0m       \u001B[0mnewfemaledf\u001B[0m\u001B[0;34m.\u001B[0m\u001B[0mloc\u001B[0m\u001B[0;34m[\u001B[0m\u001B[0mi\u001B[0m\u001B[0;34m,\u001B[0m \u001B[0;34m'type'\u001B[0m\u001B[0;34m]\u001B[0m \u001B[0;34m=\u001B[0m \u001B[0mtype20\u001B[0m\u001B[0;34m[\u001B[0m\u001B[0;36m2\u001B[0m\u001B[0;34m]\u001B[0m\u001B[0;34m\u001B[0m\u001B[0;34m\u001B[0m\u001B[0m\n\u001B[0;32m----> 9\u001B[0;31m     \u001B[0;32melif\u001B[0m\u001B[0;34m(\u001B[0m\u001B[0;34m(\u001B[0m\u001B[0mclassdf\u001B[0m\u001B[0;34m.\u001B[0m\u001B[0miloc\u001B[0m\u001B[0;34m[\u001B[0m\u001B[0mi\u001B[0m\u001B[0;34m]\u001B[0m\u001B[0;34m[\u001B[0m\u001B[0;34m'bodyvalue'\u001B[0m\u001B[0;34m]\u001B[0m \u001B[0;34m<=\u001B[0m \u001B[0mf2classdf\u001B[0m\u001B[0;34m[\u001B[0m\u001B[0;34m'bodyvalue'\u001B[0m\u001B[0;34m]\u001B[0m\u001B[0;34m.\u001B[0m\u001B[0miat\u001B[0m\u001B[0;34m[\u001B[0m\u001B[0;36m1\u001B[0m\u001B[0;34m]\u001B[0m\u001B[0;34m)\u001B[0m \u001B[0;32mand\u001B[0m \u001B[0;34m(\u001B[0m\u001B[0mclassdf\u001B[0m\u001B[0;34m.\u001B[0m\u001B[0miloc\u001B[0m\u001B[0;34m[\u001B[0m\u001B[0mi\u001B[0m\u001B[0;34m]\u001B[0m\u001B[0;34m[\u001B[0m\u001B[0;34m'shoulderWidth'\u001B[0m\u001B[0;34m]\u001B[0m \u001B[0;34m<=\u001B[0m \u001B[0mf2classdf\u001B[0m\u001B[0;34m[\u001B[0m\u001B[0;34m'shoulderWidth'\u001B[0m\u001B[0;34m]\u001B[0m\u001B[0;34m.\u001B[0m\u001B[0miat\u001B[0m\u001B[0;34m[\u001B[0m\u001B[0;36m1\u001B[0m\u001B[0;34m]\u001B[0m\u001B[0;34m)\u001B[0m \u001B[0;32mand\u001B[0m \u001B[0;34m(\u001B[0m\u001B[0mclassdf\u001B[0m\u001B[0;34m[\u001B[0m\u001B[0;34m'ArmLength'\u001B[0m\u001B[0;34m]\u001B[0m \u001B[0;34m<=\u001B[0m \u001B[0mf2classdf\u001B[0m\u001B[0;34m[\u001B[0m\u001B[0;34m'ArmLength'\u001B[0m\u001B[0;34m]\u001B[0m\u001B[0;34m.\u001B[0m\u001B[0miat\u001B[0m\u001B[0;34m[\u001B[0m\u001B[0;36m1\u001B[0m\u001B[0;34m]\u001B[0m\u001B[0;34m)\u001B[0m\u001B[0;32mand\u001B[0m \u001B[0;34m(\u001B[0m\u001B[0mclassdf\u001B[0m\u001B[0;34m.\u001B[0m\u001B[0miloc\u001B[0m\u001B[0;34m[\u001B[0m\u001B[0mi\u001B[0m\u001B[0;34m]\u001B[0m\u001B[0;34m[\u001B[0m\u001B[0;34m'hipLength'\u001B[0m\u001B[0;34m]\u001B[0m \u001B[0;34m<=\u001B[0m \u001B[0mf2classdf\u001B[0m\u001B[0;34m[\u001B[0m\u001B[0;34m'hipLength'\u001B[0m\u001B[0;34m]\u001B[0m\u001B[0;34m.\u001B[0m\u001B[0miat\u001B[0m\u001B[0;34m[\u001B[0m\u001B[0;36m1\u001B[0m\u001B[0;34m]\u001B[0m\u001B[0;34m)\u001B[0m \u001B[0;32mand\u001B[0m \u001B[0;34m(\u001B[0m\u001B[0mclassdf\u001B[0m\u001B[0;34m.\u001B[0m\u001B[0miloc\u001B[0m\u001B[0;34m[\u001B[0m\u001B[0mi\u001B[0m\u001B[0;34m]\u001B[0m\u001B[0;34m[\u001B[0m\u001B[0;34m'inseam'\u001B[0m\u001B[0;34m]\u001B[0m \u001B[0;34m>=\u001B[0m \u001B[0mclassdf\u001B[0m\u001B[0;34m.\u001B[0m\u001B[0miloc\u001B[0m\u001B[0;34m[\u001B[0m\u001B[0mi\u001B[0m\u001B[0;34m]\u001B[0m\u001B[0;34m[\u001B[0m\u001B[0;34m'bodyLength'\u001B[0m\u001B[0;34m]\u001B[0m\u001B[0;34m)\u001B[0m \u001B[0;32mand\u001B[0m \u001B[0mclassdf\u001B[0m\u001B[0;34m.\u001B[0m\u001B[0miloc\u001B[0m\u001B[0;34m[\u001B[0m\u001B[0mi\u001B[0m\u001B[0;34m]\u001B[0m\u001B[0;34m[\u001B[0m\u001B[0;34m'headCirc'\u001B[0m\u001B[0;34m]\u001B[0m \u001B[0;34m<=\u001B[0m\u001B[0mf2classdf\u001B[0m\u001B[0;34m[\u001B[0m\u001B[0;34m'headCirc'\u001B[0m\u001B[0;34m]\u001B[0m\u001B[0;34m.\u001B[0m\u001B[0miat\u001B[0m\u001B[0;34m[\u001B[0m\u001B[0;36m1\u001B[0m\u001B[0;34m]\u001B[0m\u001B[0;34m)\u001B[0m\u001B[0;34m:\u001B[0m\u001B[0;34m\u001B[0m\u001B[0;34m\u001B[0m\u001B[0m\n\u001B[0m\u001B[1;32m     10\u001B[0m       \u001B[0mnewfemaledf\u001B[0m\u001B[0;34m.\u001B[0m\u001B[0mloc\u001B[0m\u001B[0;34m[\u001B[0m\u001B[0mi\u001B[0m\u001B[0;34m,\u001B[0m \u001B[0;34m'type'\u001B[0m\u001B[0;34m]\u001B[0m \u001B[0;34m=\u001B[0m \u001B[0mtype20\u001B[0m\u001B[0;34m[\u001B[0m\u001B[0;36m3\u001B[0m\u001B[0;34m]\u001B[0m\u001B[0;34m\u001B[0m\u001B[0;34m\u001B[0m\u001B[0m\n\u001B[1;32m     11\u001B[0m     \u001B[0;32melse\u001B[0m\u001B[0;34m:\u001B[0m\u001B[0;34m\u001B[0m\u001B[0;34m\u001B[0m\u001B[0m\n",
      "\u001B[0;32m~/anaconda3/lib/python3.8/site-packages/pandas/core/generic.py\u001B[0m in \u001B[0;36m__nonzero__\u001B[0;34m(self)\u001B[0m\n\u001B[1;32m   1440\u001B[0m     \u001B[0;34m@\u001B[0m\u001B[0mfinal\u001B[0m\u001B[0;34m\u001B[0m\u001B[0;34m\u001B[0m\u001B[0m\n\u001B[1;32m   1441\u001B[0m     \u001B[0;32mdef\u001B[0m \u001B[0m__nonzero__\u001B[0m\u001B[0;34m(\u001B[0m\u001B[0mself\u001B[0m\u001B[0;34m)\u001B[0m\u001B[0;34m:\u001B[0m\u001B[0;34m\u001B[0m\u001B[0;34m\u001B[0m\u001B[0m\n\u001B[0;32m-> 1442\u001B[0;31m         raise ValueError(\n\u001B[0m\u001B[1;32m   1443\u001B[0m             \u001B[0;34mf\"The truth value of a {type(self).__name__} is ambiguous. \"\u001B[0m\u001B[0;34m\u001B[0m\u001B[0;34m\u001B[0m\u001B[0m\n\u001B[1;32m   1444\u001B[0m             \u001B[0;34m\"Use a.empty, a.bool(), a.item(), a.any() or a.all().\"\u001B[0m\u001B[0;34m\u001B[0m\u001B[0;34m\u001B[0m\u001B[0m\n",
      "\u001B[0;31mValueError\u001B[0m: The truth value of a Series is ambiguous. Use a.empty, a.bool(), a.item(), a.any() or a.all()."
     ]
    }
   ],
   "source": [
    "for i in range(newmaledf.shape[0]):\n",
    "  if classdf.iloc[i].age in range(20, 30):\n",
    "    if ((classdf.iloc[i]['bodyvalue'] <= f2classdf['bodyvalue'].iat[1]) and (classdf.iloc[i]['shoulderWidth'] >= f2classdf['shoulderWidth'].iat[1]) and (classdf.iloc[i]['ArmLength'] >= f2classdf['ArmLength'].iat[1]) and (classdf.iloc[i]['hipLength'] <= f2classdf['hipLength'].iat[1]) and (classdf.iloc[i]['inseam'] >= classdf.iloc[i]['bodyLength']) and classdf.iloc[i]['headCirc'] >f2classdf['headCirc'].iat[1]):\n",
    "      newfemaledf.loc[i, 'type'] = type20[0]\n",
    "    elif((classdf.iloc[i]['bodyvalue'] >= f2classdf['bodyvalue'].iat[1]) and (classdf.iloc[i]['ArmLength'] >= f2classdf['ArmLength'].iat[1]) and (classdf.iloc[i]['bodyLength'] >= f2classdf['bodyLength'].iat[1])):\n",
    "      newfemaledf.loc[i, 'type'] = type20[1]\n",
    "    elif ((classdf.iloc[i]['shoulderWidth'] >= f2classdf['shoulderWidth'].iat[1]) and (classdf.iloc[i]['ArmLength'] <= f2classdf['ArmLength'].iat[1])):\n",
    "      newfemaledf.loc[i, 'type'] = type20[2]\n",
    "    elif((classdf.iloc[i]['bodyvalue'] <= f2classdf['bodyvalue'].iat[1]) and (classdf.iloc[i]['shoulderWidth'] <= f2classdf['shoulderWidth'].iat[1]) and (classdf['ArmLength'] <= f2classdf['ArmLength'].iat[1])and (classdf.iloc[i]['hipLength'] <= f2classdf['hipLength'].iat[1]) and (classdf.iloc[i]['inseam'] >= classdf.iloc[i]['bodyLength']) and classdf.iloc[i]['headCirc'] <=f2classdf['headCirc'].iat[1]):\n",
    "      newfemaledf.loc[i, 'type'] = type20[3]\n",
    "    else:\n",
    "      newfemaledf.loc[i, 'type'] =type20[4]\n",
    "  elif classdf.iloc[i].age in range(30, 40):\n",
    "    if((classdf.iloc[i]['bodyvalue'] <= f3classdf['bodyvalue'].iat[1]) and (classdf.iloc[i]['ArmLength'] >= f3classdf['ArmLength'].iat[1])and (classdf.iloc[i]['hipLength'] <= f3classdf['hipLength'].iat[1]) and (classdf.iloc[i]['inseam'] >= classdf.iloc[i]['bodyLength']) and (classdf.iloc[i]['headCirc'] >f2classdf['headCirc'].iat[1])):\n",
    "      newfemaledf.loc[i, 'type'] = type30[0]\n",
    "    elif((classdf.iloc[i]['ArmLength'] >= f3classdf['ArmLength'].iat[1]) and (classdf.iloc[i]['headCirc'] >f3classdf['headCirc'].iat[1])):\n",
    "      newfemaledf.loc[i, 'type'] =type30[1]\n",
    "    elif((classdf.iloc[i]['bodyvalue'] >= f3classdf['bodyvalue'].iat[2]) and (classdf.iloc[i]['ArmLength'] <= f3classdf['ArmLength'].iat[1])):\n",
    "      newfemaledf.loc[i, 'type'] =type30[2]\n",
    "    elif((classdf.iloc[i]['bodyvalue'] <= f3classdf['bodyvalue'].iat[1]) and (classdf.iloc[i]['ArmLength'] <= f3classdf['ArmLength'].iat[1]) and  (classdf.iloc[i]['hipLength'] >= f3classdf['hipLength'].iat[1]) and (classdf.iloc[i]['inseam'] <= classdf.iloc[i]['bodyLength'])):\n",
    "      newfemaledf.loc[i, 'type'] = type30[3]\n",
    "    else:\n",
    "      newfemaledf.loc[i, 'type'] =type30[4]\n",
    "\n",
    "  elif classdf.iloc[i].age in range(40, 50):\n",
    "    if ((classdf.iloc[i]['ArmLength'] >= f4classdf['ArmLength'].iat[1]) and (classdf.iloc[i]['inseam'] >= classdf.iloc[i]['bodyLength'])):\n",
    "      newfemaledf.loc[i, 'type'] = type40[0]\n",
    "    elif((classdf.iloc[i]['bodyvalue'] <= f4classdf['bodyvalue'].iat[1]) and (classdf.iloc[i]['ArmLength'] >= f4classdf['ArmLength'].iat[1])and (classdf.iloc[i]['hipLength'] <= f4classdf['hipLength'].iat[1]) ):\n",
    "      newfemaledf.loc[i, 'type'] = type40[1]\n",
    "    elif((classdf.iloc[i]['shoulderWidth'] >= f4classdf['shoulderWidth'].iat[1]) and (classdf.iloc[i]['headCirc'] >=f4classdf['headCirc'].iat[1]) and(classdf.iloc[i]['inseam'] <= classdf.iloc[i]['bodyLength'])):\n",
    "      newfemaledf.loc[i, 'type'] = type40[2]\n",
    "    elif((classdf.iloc[i]['bodyvalue'] >= f4classdf['bodyvalue'].iat[1]) and (classdf.iloc[i]['ArmLength'] <= f4classdf['ArmLength'].iat[0]) and (classdf.iloc[i]['shoulderWidth'] <= f4classdf['shoulderWidth'].iat[0])):\n",
    "      newfemaledf.loc[i, 'type'] =type40[3]\n",
    "    else:\n",
    "      newfemaledf.loc[i, 'type'] = type40[4]\n",
    "  elif classdf.iloc[i].age in range(50, 60):\n",
    "    if ((classdf.iloc[i]['bodyvalue'] <= f5classdf['bodyvalue'].iat[1])  and (classdf.iloc[i]['ArmLength'] >= f5classdf['ArmLength'].iat[1])and (classdf.iloc[i]['hipLength'] <= f5classdf['hipLength'].iat[1]) and (classdf.iloc[i]['inseam'] >= classdf.iloc[i]['bodyLength'])):\n",
    "      newfemaledf.loc[i, 'type'] = type50[0]\n",
    "    elif ((classdf.iloc[i]['ArmLength'] >= f5classdf['ArmLength'].iat[1]) and (classdf.iloc[i]['headCirc'] <= f5classdf['headCirc'].iat[1])):\n",
    "      newfemaledf.loc[i, 'type'] =type50[1]\n",
    "    elif((classdf.iloc[i]['bodyvalue'] >= f5classdf['bodyvalue'].iat[2]) and (classdf.iloc[i]['ArmLength'] <= f4classdf['ArmLength'].iat[0]) ):\n",
    "      newfemaledf.loc[i, 'type'] =type50[2]\n",
    "    else:\n",
    "      newfemaledf.loc[i, 'type'] =type50[3]\n",
    "  elif classdf.iloc[i].age in range(60, 70):\n",
    "    if((classdf.iloc[i]['bodyvalue'] <= f6classdf['bodyvalue'].iat[1]) and (classdf.iloc[i]['hipLength'] >= f5classdf['hipLength'].iat[1]) and (classdf.iloc[i]['inseam'] <= classdf.iloc[i]['bodyLength'])):\n",
    "      newfemaledf.loc[i, 'type'] = type60[0]\n",
    "    elif ((classdf.iloc[i]['bodyvalue'] >= f6classdf['bodyvalue'].iat[1])  and (classdf.iloc[i]['shoulderWidth'] >= f6classdf['shoulderWidth'].iat[1])and (classdf.iloc[i]['hipLength'] <= f6classdf['hipLength'].iat[1])):\n",
    "      newfemaledf.loc[i, 'type'] = type60[1]\n",
    "    elif ((classdf.iloc[i]['ArmLength'] >= f6classdf['ArmLength'].iat[1])and (classdf.iloc[i]['hipLength'] >= f6classdf['hipLength'].iat[1])):\n",
    "      newfemaledf.loc[i, 'type'] = type60[2]\n",
    "    elif((classdf.iloc[i]['shoulderWidth'] <= f6classdf['shoulderWidth'].iat[1]) and (classdf.iloc[i]['ArmLength'] <= f6classdf['ArmLength'].iat[1]) and (classdf.iloc[i]['headCirc'] >= f6classdf['headCirc'].iat[1]) and (classdf.iloc[i]['hipLength'] <= f6classdf['hipLength'].iat[1]) and (classdf.iloc[i]['inseam'] >= classdf.iloc[i]['bodyLength'])):\n",
    "      newfemaledf.loc[i, 'type'] = type60[3]\n",
    "    else:\n",
    "      newfemaledf.loc[i, 'type'] = type60[4]"
   ],
   "metadata": {
    "collapsed": false,
    "pycharm": {
     "name": "#%%\n"
    }
   }
  },
  {
   "cell_type": "code",
   "execution_count": 60,
   "outputs": [],
   "source": [
    "newfemaledf.to_csv('newfemale.csv')"
   ],
   "metadata": {
    "collapsed": false,
    "pycharm": {
     "name": "#%%\n"
    }
   }
  },
  {
   "cell_type": "code",
   "execution_count": null,
   "outputs": [],
   "source": [],
   "metadata": {
    "collapsed": false,
    "pycharm": {
     "name": "#%%\n"
    }
   }
  }
 ],
 "metadata": {
  "kernelspec": {
   "display_name": "Python 3",
   "language": "python",
   "name": "python3"
  },
  "language_info": {
   "codemirror_mode": {
    "name": "ipython",
    "version": 3
   },
   "file_extension": ".py",
   "mimetype": "text/x-python",
   "name": "python",
   "nbconvert_exporter": "python",
   "pygments_lexer": "ipython3",
   "version": "3.8.8"
  }
 },
 "nbformat": 4,
 "nbformat_minor": 1
}