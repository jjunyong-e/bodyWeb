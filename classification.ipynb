{
 "cells": [
  {
   "cell_type": "code",
   "execution_count": 1,
   "metadata": {
    "pycharm": {
     "name": "#%%\n"
    }
   },
   "outputs": [
    {
     "data": {
      "text/plain": [
       "Index(['age', 'height', 'weight', 'bellyCirc', 'waistCirc', 'wristCirc',\n",
       "       'neckCirc', 'ArmLength', 'ThighCirc', 'shoulderWidth', 'Hips',\n",
       "       'armfitCirc', 'inseam', 'bodyLength', 'headCirc', 'hipLength',\n",
       "       'bodyvalue'],\n",
       "      dtype='object')"
      ]
     },
     "execution_count": 1,
     "metadata": {},
     "output_type": "execute_result"
    }
   ],
   "source": [
    "import pandas as pd\n",
    "\n",
    "classdata = pd.read_csv('mclass'\n",
    "                        '.csv')\n",
    "classdf = pd.DataFrame(classdata)\n",
    "classdf.dropna(axis=0, inplace=True)\n",
    "\n",
    "cols = classdf.columns\n",
    "cols"
   ]
  },
  {
   "cell_type": "code",
   "execution_count": 2,
   "metadata": {},
   "outputs": [],
   "source": [
    "# classdf['type'] = ['']*830"
   ]
  },
  {
   "cell_type": "code",
   "execution_count": 3,
   "metadata": {
    "pycharm": {
     "name": "#%%\n"
    }
   },
   "outputs": [],
   "source": [
    "for col in cols:\n",
    "  for i in range(classdf.shape[0]):\n",
    "    if classdf[col].iat[i] == '#VALUE!':\n",
    "      classdf[col].iat[i] = 0\n",
    "  else:\n",
    "    classdf[col].iat[i] = float(classdf[col].iat[i])\n",
    "classdf['bodyvalue'] = classdf['weight'] + classdf['bellyCirc'] + classdf['armfitCirc'] + classdf[\n",
    "  'waistCirc']"
   ]
  },
  {
   "cell_type": "code",
   "execution_count": 4,
   "metadata": {},
   "outputs": [],
   "source": [
    "m2classdf = pd.DataFrame({'quantile': [0.25, 0.5, 0.75]})\n",
    "m3classdf = pd.DataFrame({'quantile': [0.25, 0.5, 0.75]})\n",
    "m4classdf = pd.DataFrame({'quantile': [0.25, 0.5, 0.75]})\n",
    "m5classdf = pd.DataFrame({'quantile': [0.25, 0.5, 0.75]})\n",
    "m6classdf = pd.DataFrame({'quantile': [0.25, 0.5, 0.75]})"
   ]
  },
  {
   "cell_type": "code",
   "execution_count": 5,
   "metadata": {
    "pycharm": {
     "name": "#%%\n"
    }
   },
   "outputs": [],
   "source": [
    "start = 20\n",
    "end = 30\n",
    "df_20 = classdf[(classdf['age'] >= start) & (classdf['age'] < end)]\n",
    "start = 30\n",
    "end = start + 10\n",
    "df_30 = classdf[(classdf['age'] >= start) & (classdf['age'] < end)]\n",
    "start = 40\n",
    "end = start + 10\n",
    "df_40 = classdf[(classdf['age'] >= start) & (classdf['age'] < end)]\n",
    "start = 50\n",
    "end = start + 10\n",
    "df_50 = classdf[(classdf['age'] >= start) & (classdf['age'] < end)]\n",
    "start = 60\n",
    "end = start + 10\n",
    "df_60 = classdf[(classdf['age'] >= start) & (classdf['age'] < end)]"
   ]
  },
  {
   "cell_type": "code",
   "execution_count": 6,
   "metadata": {
    "pycharm": {
     "name": "#%%\n"
    },
    "scrolled": true
   },
   "outputs": [
    {
     "data": {
      "text/html": [
       "<div>\n",
       "<style scoped>\n",
       "    .dataframe tbody tr th:only-of-type {\n",
       "        vertical-align: middle;\n",
       "    }\n",
       "\n",
       "    .dataframe tbody tr th {\n",
       "        vertical-align: top;\n",
       "    }\n",
       "\n",
       "    .dataframe thead th {\n",
       "        text-align: right;\n",
       "    }\n",
       "</style>\n",
       "<table border=\"1\" class=\"dataframe\">\n",
       "  <thead>\n",
       "    <tr style=\"text-align: right;\">\n",
       "      <th></th>\n",
       "      <th>quantile</th>\n",
       "      <th>age</th>\n",
       "      <th>height</th>\n",
       "      <th>weight</th>\n",
       "      <th>bellyCirc</th>\n",
       "      <th>waistCirc</th>\n",
       "      <th>wristCirc</th>\n",
       "      <th>neckCirc</th>\n",
       "      <th>ArmLength</th>\n",
       "      <th>ThighCirc</th>\n",
       "      <th>shoulderWidth</th>\n",
       "      <th>Hips</th>\n",
       "      <th>armfitCirc</th>\n",
       "      <th>inseam</th>\n",
       "      <th>bodyLength</th>\n",
       "      <th>headCirc</th>\n",
       "      <th>hipLength</th>\n",
       "      <th>bodyvalue</th>\n",
       "    </tr>\n",
       "  </thead>\n",
       "  <tbody>\n",
       "    <tr>\n",
       "      <th>0</th>\n",
       "      <td>0.25</td>\n",
       "      <td>23.0</td>\n",
       "      <td>169.0</td>\n",
       "      <td>62.0</td>\n",
       "      <td>76.00</td>\n",
       "      <td>74.0</td>\n",
       "      <td>16.0</td>\n",
       "      <td>35.0</td>\n",
       "      <td>56.0</td>\n",
       "      <td>54.0</td>\n",
       "      <td>42.0</td>\n",
       "      <td>91.0</td>\n",
       "      <td>37.0</td>\n",
       "      <td>75.0</td>\n",
       "      <td>26.0</td>\n",
       "      <td>57.0</td>\n",
       "      <td>20.0</td>\n",
       "      <td>251.0</td>\n",
       "    </tr>\n",
       "    <tr>\n",
       "      <th>1</th>\n",
       "      <td>0.50</td>\n",
       "      <td>25.0</td>\n",
       "      <td>173.0</td>\n",
       "      <td>68.0</td>\n",
       "      <td>81.00</td>\n",
       "      <td>78.0</td>\n",
       "      <td>17.0</td>\n",
       "      <td>37.0</td>\n",
       "      <td>58.0</td>\n",
       "      <td>57.5</td>\n",
       "      <td>44.0</td>\n",
       "      <td>94.0</td>\n",
       "      <td>40.0</td>\n",
       "      <td>78.0</td>\n",
       "      <td>28.0</td>\n",
       "      <td>58.0</td>\n",
       "      <td>26.0</td>\n",
       "      <td>266.0</td>\n",
       "    </tr>\n",
       "    <tr>\n",
       "      <th>2</th>\n",
       "      <td>0.75</td>\n",
       "      <td>27.0</td>\n",
       "      <td>177.0</td>\n",
       "      <td>75.0</td>\n",
       "      <td>86.75</td>\n",
       "      <td>83.0</td>\n",
       "      <td>18.0</td>\n",
       "      <td>39.0</td>\n",
       "      <td>60.0</td>\n",
       "      <td>62.0</td>\n",
       "      <td>46.0</td>\n",
       "      <td>98.0</td>\n",
       "      <td>43.0</td>\n",
       "      <td>80.0</td>\n",
       "      <td>60.0</td>\n",
       "      <td>59.0</td>\n",
       "      <td>29.0</td>\n",
       "      <td>285.0</td>\n",
       "    </tr>\n",
       "  </tbody>\n",
       "</table>\n",
       "</div>"
      ],
      "text/plain": [
       "   quantile   age  height  weight  bellyCirc  waistCirc  wristCirc  neckCirc  \\\n",
       "0      0.25  23.0   169.0    62.0      76.00       74.0       16.0      35.0   \n",
       "1      0.50  25.0   173.0    68.0      81.00       78.0       17.0      37.0   \n",
       "2      0.75  27.0   177.0    75.0      86.75       83.0       18.0      39.0   \n",
       "\n",
       "   ArmLength  ThighCirc  shoulderWidth  Hips  armfitCirc  inseam  bodyLength  \\\n",
       "0       56.0       54.0           42.0  91.0        37.0    75.0        26.0   \n",
       "1       58.0       57.5           44.0  94.0        40.0    78.0        28.0   \n",
       "2       60.0       62.0           46.0  98.0        43.0    80.0        60.0   \n",
       "\n",
       "   headCirc  hipLength  bodyvalue  \n",
       "0      57.0       20.0      251.0  \n",
       "1      58.0       26.0      266.0  \n",
       "2      59.0       29.0      285.0  "
      ]
     },
     "execution_count": 6,
     "metadata": {},
     "output_type": "execute_result"
    }
   ],
   "source": [
    "cols = ['age', 'height', 'weight', 'bellyCirc', 'waistCirc',\n",
    "        'wristCirc', 'neckCirc', 'ArmLength', 'ThighCirc', 'shoulderWidth',\n",
    "        'Hips', 'armfitCirc', 'inseam', 'bodyLength', 'headCirc', 'hipLength',\n",
    "         'bodyvalue']\n",
    "\n",
    "for col in cols:\n",
    "  m2classdf[col] = df_20[col].quantile(q=0.25), df_20[col].quantile(q=0.5), df_20[col].quantile(\n",
    "      q=0.75)\n",
    "  m3classdf[col] = df_30[col].quantile(q=0.25), df_30[col].quantile(q=0.5), df_30[col].quantile(\n",
    "      q=0.75)\n",
    "  m4classdf[col] = df_40[col].quantile(q=0.25), df_40[col].quantile(q=0.5), df_40[col].quantile(\n",
    "      q=0.75)\n",
    "  m5classdf[col] = df_50[col].quantile(q=0.25), df_50[col].quantile(q=0.5), df_50[col].quantile(\n",
    "      q=0.75)\n",
    "  m6classdf[col] = df_60[col].quantile(q=0.25), df_60[col].quantile(q=0.5), df_60[col].quantile(\n",
    "      q=0.75)\n",
    "\n",
    "m2classdf"
   ]
  },
  {
   "cell_type": "code",
   "execution_count": 8,
   "metadata": {},
   "outputs": [],
   "source": [
    "newmaledf = classdf.copy()\n",
    "newmaledf['type'] = ['0'] * newmaledf.shape[0]\n",
    "type20 = ['20srtm', '20btm', '20qm', '20avgm']\n",
    "type30 = ['30srtm', '30bqm', '30rtm', '30sqm', '30avgm']\n",
    "type40 = ['40rtm', '40sqm','40tm','40btm', '40avgm']\n",
    "type50 = ['50sqm', '50bqm','50tm','50qm', '50avgm']\n",
    "type60 = ['60brtm', '60tm', '60rtm','60sqm', '60avgm']"
   ]
  },
  {
   "cell_type": "code",
   "execution_count": 9,
   "metadata": {
    "pycharm": {
     "name": "#%%\n"
    }
   },
   "outputs": [
    {
     "data": {
      "text/plain": [
       "20avgm    676\n",
       "60sqm     646\n",
       "30avgm    542\n",
       "40avgm    411\n",
       "60brtm    323\n",
       "50avgm    277\n",
       "60avgm    270\n",
       "50qm      167\n",
       "30bqm      99\n",
       "30srtm     68\n",
       "40rtm      41\n",
       "20btm      41\n",
       "20qm       37\n",
       "50sqm      21\n",
       "40sqm      10\n",
       "30sqm       6\n",
       "60rtm       6\n",
       "Name: type, dtype: int64"
      ]
     },
     "execution_count": 9,
     "metadata": {},
     "output_type": "execute_result"
    }
   ],
   "source": [
    "for i in range(newmaledf.shape[0]):\n",
    "  if classdf.iloc[i].age in range(20, 30):\n",
    "    if ((classdf.iloc[i]['bodyvalue'] <= m2classdf['bodyvalue'].iat[1]) & (classdf.iloc[i]['shoulderWidth'] >= m2classdf['shoulderWidth'].iat[1]) & (classdf.iloc[i]['ArmLength'] >= m2classdf['ArmLength'].iat[1]) & (classdf.iloc[i]['hipLength'] <= m2classdf['hipLength'].iat[1]) & (classdf.iloc[i]['inseam'] >= classdf.iloc[i]['bodyLength']) & classdf.iloc[i]['headCirc'] >m2classdf['headCirc'].iat[1]):\n",
    "      newmaledf.loc[i, 'type'] = type20[0]\n",
    "    elif ((classdf.iloc[i]['bodyvalue'] >= m2classdf['bodyvalue'].iat[1]) & (classdf.iloc[i]['ArmLength'] >= m2classdf['ArmLength'].iat[1]) & (classdf.iloc[i]['hipLength'] <= m2classdf['hipLength'].iat[1]) & (classdf.iloc[i]['inseam'] >= classdf.iloc[i]['bodyLength']) & (classdf.iloc[i]['headCirc'] <= m2classdf['headCirc'].iat[1]) & (classdf.iloc[i]['hipLength'] < m2classdf['hipLength'].iat[1])):\n",
    "      newmaledf.loc[i, 'type'] = type20[1]\n",
    "    elif ((classdf.iloc[i]['ArmLength'] <= m2classdf['ArmLength'].iat[1]) & (classdf.iloc[i]['hipLength'] <= m2classdf['hipLength'].iat[1]) & (classdf.iloc[i]['headCirc'] <= m2classdf['headCirc'].iat[1]) & (classdf.iloc[i]['hipLength'] >= m2classdf['hipLength'].iat[1])):\n",
    "      newmaledf.loc[i, 'type'] = type20[2]\n",
    "    else:\n",
    "      newmaledf.loc[i, 'type'] = type20[3]\n",
    "\n",
    "  elif classdf.iloc[i].age in range(30, 40):\n",
    "    if ((classdf.iloc[i]['bodyvalue'] <= m3classdf['bodyvalue'].iat[1])&(classdf.iloc[i]['ArmLength'] >= m3classdf['ArmLength'].iat[2]) & (classdf.iloc[i]['headCirc'] <= m3classdf['headCirc'].iat[1]) & (classdf.iloc[i]['inseam'] >= classdf.iloc[i]['bodyLength'])):\n",
    "      newmaledf.loc[i, 'type'] = type30[0]\n",
    "    elif((classdf.iloc[i]['bodyvalue'] >= m3classdf['bodyvalue'].iat[1]) & (classdf.iloc[i]['shoulderWidth'] <= m3classdf['shoulderWidth'].iat[1]) & (classdf.iloc[i]['ArmLength'] <= m2classdf['ArmLength'].iat[1])  & (classdf.iloc[i]['inseam'] >= classdf.iloc[i]['bodyLength'])):\n",
    "      newmaledf.loc[i, 'type'] = type30[1]\n",
    "    elif((newmaledf.iloc[i]['shoulderWidth'] >= m3classdf['shoulderWidth'].iat[2]) & (newmaledf.iloc[i]['headCirc'] >= m3classdf['headCirc'].iat[2]) & (classdf.iloc[i]['hipLength'] > m3classdf['hipLength'].iat[1]) &(classdf.iloc[i]['inseam'] < classdf.iloc[i]['bodyLength'])):\n",
    "      newmaledf.loc[i, 'type'] =type30[2]\n",
    "    elif((newmaledf.iloc[i]['bodyvalue'] <= m3classdf['bodyvalue'].iat[1]) & (classdf.iloc[i]['shoulderWidth'] <= m3classdf['shoulderWidth'].iat[1]) & (classdf.iloc[i]['ArmLength'] <= m2classdf['ArmLength'].iat[1]) & (newmaledf.iloc[i]['headCirc'] >= m3classdf['headCirc'].iat[2]) & (classdf.iloc[i]['hipLength'] > m3classdf['hipLength'].iat[1])):\n",
    "      newmaledf.loc[i, 'type'] = type30[3]\n",
    "    else:\n",
    "      newmaledf.loc[i, 'type'] = type30[4]\n",
    "  elif classdf.iloc[i].age in range(40, 50):\n",
    "    if((classdf.iloc[i]['bodyvalue'] >= m4classdf['bodyvalue'].iat[1]) &(classdf.iloc[i]['shoulderWidth'] >= m4classdf['shoulderWidth'].iat[1]) & (classdf.iloc[i]['headCirc'] <= m4classdf['headCirc'].iat[1]) & ((classdf.iloc[i]['hipLength'] < m4classdf['hipLength'].iat[1]))):\n",
    "        newmaledf.loc[i, 'type'] = type40[0]\n",
    "    elif ((classdf.iloc[i]['bodyvalue'] <= m4classdf['bodyvalue'].iat[1]) & (classdf.iloc[i]['shoulderWidth'] <= m4classdf['shoulderWidth'].iat[1]) & (classdf.iloc[i]['ArmLength'] >= m4classdf['ArmLength'].iat[1]) & (classdf.iloc[i]['headCirc'] >= m4classdf['headCirc'].iat[1]) & (classdf.iloc[i]['hipLength'] <= m4classdf['hipLength'].iat[1]) & (classdf.iloc[i]['inseam'] >= classdf.iloc[i]['bodyLength']) ):\n",
    "       newmaledf.loc[i, 'type'] = type40[1]\n",
    "    elif ((classdf.iloc[i]['shoulderWidth'] <= m4classdf['shoulderWidth'].iat[1]) & (classdf.iloc[i]['ArmLength'] <= m4classdf['ArmLength'].iat[0]) & (classdf.iloc[i]['headCirc'] <= m4classdf['headCirc'].iat[0]) &  (classdf.iloc[i]['hipLength'] > m4classdf['hipLength'].iat[1]) &(classdf.iloc[i]['inseam'] < classdf.iloc[i]['bodyLength'])):\n",
    "      newnakedf.loc[i, 'type'] = type40[2]\n",
    "    elif ((classdf.iloc[i]['bodyvalue'] >= m4classdf['bodyvalue'].iat[2]) & (classdf.iloc[i]['shoulderWidth'] >= m4classdf['shoulderWidth'].iat[1])  & (classdf.iloc[i]['headCirc'] >= m4classdf['headCirc'].iat[2]) & ((classdf.iloc[i]['hipLength'] > m4classdf['hipLength'].iat[1]) &(classdf.iloc[i]['inseam'] < classdf.iloc[i]['bodyLength']))):\n",
    "      newmaledf.loc[i, 'type'] = type40[3]\n",
    "    else:\n",
    "      newmaledf.loc[i, 'type'] =type40[4]\n",
    "  elif classdf.iloc[i].age in range(50, 60):\n",
    "      if ((classdf.iloc[i]['bodyvalue'] <= m5classdf['bodyvalue'].iat[1]) & (classdf.iloc[i]['shoulderWidth'] <= m5classdf['shoulderWidth'].iat[1]) & (classdf.iloc[i]['ArmLength'] <= m5classdf['ArmLength'].iat[0]) & (classdf.iloc[i]['hipLength'] >= m5classdf['hipLength'].iat[1]) & (classdf.iloc[i]['inseam'] >= classdf.iloc[i]['bodyLength'])):\n",
    "        newmaledf.loc[i, 'type'] =type50[0]\n",
    "      elif((classdf.iloc[i]['bodyvalue'] >= m5classdf['bodyvalue'].iat[1]) & (classdf.iloc[i]['shoulderWidth'] >= m5classdf['shoulderWidth'].iat[1]) & (classdf.iloc[i]['ArmLength'] <= m5classdf['ArmLength'].iat[0]) & (classdf.iloc[i]['hipLength'] >= m5classdf['hipLength'].iat[1]) & (classdf.iloc[i]['inseam'] <= classdf.iloc[i]['bodyLength'])):\n",
    "        newmaledf.loc[i, 'type'] =type50[1]\n",
    "      elif ((classdf.iloc[i]['shoulderWidth'] >= m5classdf['shoulderWidth'].iat[1]) & (classdf.iloc[i]['ArmLength'] >= m5classdf['ArmLength'].iat[2]) & (classdf.iloc[i]['hipLength'] >= m5classdf['hipLength'].iat[1]) & (classdf.iloc[i]['inseam'] <= classdf.iloc[i]['bodyLength'])):\n",
    "        newmaledf.loc[i, 'type'] =type50[2]\n",
    "      elif ( (classdf.iloc[i]['ArmLength'] >= m5classdf['ArmLength'].iat[0]) & (classdf.iloc[i]['hipLength'] <= m5classdf['hipLength'].iat[1]) & (classdf.iloc[i]['inseam'] >= classdf.iloc[i]['bodyLength']) ):\n",
    "        newmaledf.loc[i, 'type'] =type50[3]\n",
    "      else:\n",
    "        newmaledf.loc[i, 'type'] =type50[4]\n",
    "  else:\n",
    "    if((classdf.iloc[i]['shoulderWidth'] >= m6classdf['shoulderWidth'].iat[2]) & (classdf.iloc[i]['hipLength'] >= m6classdf['hipLength'].iat[0])):\n",
    "      newmaledf.loc[i, 'type'] =type60[0]\n",
    "    elif ((classdf.iloc[i]['shoulderWidth'] <= m6classdf['shoulderWidth'].iat[0]) & (classdf.iloc[i]['ArmLength'] >= m6classdf['ArmLength'].iat[1]) & (classdf.iloc[i]['headCirc'] <= m6classdf['headCirc'].iat[1]) & (classdf.iloc[i]['hipLength'] >= m6classdf['hipLength'].iat[1]) & (classdf.iloc[i]['inseam'] <= classdf.iloc[i]['bodyLength'])):\n",
    "      newmaledf.loc[i, 'type'] = type60[1]\n",
    "    elif((classdf.iloc[i]['shoulderWidth'] >= m6classdf['shoulderWidth'].iat[1]) & (classdf.iloc[i]['ArmLength'] <= m6classdf['ArmLength'].iat[1]) & (classdf.iloc[i]['headCirc'] >= m6classdf['headCirc'].iat[1]) & (classdf.iloc[i]['hipLength'] >= m6classdf['hipLength'].iat[2])) :\n",
    "      newmaledf.loc[i, 'type'] =type60[2]\n",
    "    elif ((classdf.iloc[i]['bodyvalue'] <= m6classdf['bodyvalue'].iat[1]) & (classdf.iloc[i]['shoulderWidth'] <= m6classdf['shoulderWidth'].iat[1]) & (classdf.iloc[i]['inseam'] >= classdf.iloc[i]['bodyLength'])):\n",
    "      newmaledf.loc[i, 'type'] =type60[3]\n",
    "    else:\n",
    "      newmaledf.loc[i, 'type'] =type60[4]\n",
    "newmaledf['type'].value_counts()"
   ]
  },
  {
   "cell_type": "code",
   "execution_count": 10,
   "metadata": {
    "pycharm": {
     "name": "#%%\n"
    }
   },
   "outputs": [],
   "source": [
    "newmaledf.to_csv('newmale.csv')\n"
   ]
  },
  {
   "cell_type": "code",
   "execution_count": 11,
   "metadata": {
    "pycharm": {
     "name": "#%%\n"
    }
   },
   "outputs": [
    {
     "name": "stdout",
     "output_type": "stream",
     "text": [
      "(3623, 17)\n"
     ]
    },
    {
     "data": {
      "text/plain": [
       "Index(['age', 'height', 'weight', 'bellyCirc', 'waistCirc', 'wristCirc',\n",
       "       'neckCirc', 'ArmLength', 'ThighCirc', 'shoulderWidth', 'Hips',\n",
       "       'armfitCirc', 'inseam', 'bodyLength', 'headCirc', 'hipLength',\n",
       "       'bodyvalue'],\n",
       "      dtype='object')"
      ]
     },
     "execution_count": 11,
     "metadata": {},
     "output_type": "execute_result"
    }
   ],
   "source": [
    "\n",
    "classdata = pd.read_csv('fclass.csv')\n",
    "classdf = pd.DataFrame(classdata)\n",
    "classdf.dropna(axis=0, inplace=True)\n",
    "print(classdf.shape)\n",
    "cols = classdf.columns\n",
    "cols"
   ]
  },
  {
   "cell_type": "code",
   "execution_count": 13,
   "metadata": {
    "pycharm": {
     "name": "#%%\n"
    }
   },
   "outputs": [],
   "source": [
    "classdf['type'] = ['']*3623\n"
   ]
  },
  {
   "cell_type": "code",
   "execution_count": 14,
   "metadata": {
    "pycharm": {
     "name": "#%%\n"
    }
   },
   "outputs": [],
   "source": [
    "classdf['bodyvalue'] = classdf['weight'] + classdf['bellyCirc'] + classdf['armfitCirc'] + classdf[\n",
    "  'waistCirc']\n",
    "classdf.dropna(axis=0, inplace = True)"
   ]
  },
  {
   "cell_type": "code",
   "execution_count": 15,
   "metadata": {
    "pycharm": {
     "name": "#%%\n"
    }
   },
   "outputs": [],
   "source": [
    "start = 20\n",
    "end = 30\n",
    "df_20 = classdf[(classdf['age'] >= start) & (classdf['age'] < end)]\n",
    "start = 30\n",
    "end = start + 10\n",
    "df_30 = classdf[(classdf['age'] >= start) & (classdf['age'] < end)]\n",
    "start = 40\n",
    "end = start + 10\n",
    "df_40 = classdf[(classdf['age'] >= start) & (classdf['age'] < end)]\n",
    "start = 50\n",
    "end = start + 10\n",
    "df_50 = classdf[(classdf['age'] >= start) & (classdf['age'] < end)]\n",
    "start = 60\n",
    "end = start + 10\n",
    "df_60 = classdf[(classdf['age'] >= start) & (classdf['age'] < end)]\n"
   ]
  },
  {
   "cell_type": "code",
   "execution_count": 16,
   "metadata": {},
   "outputs": [],
   "source": [
    "f2classdf = pd.DataFrame({'quantile': [0.25, 0.5, 0.75]})\n",
    "f3classdf = pd.DataFrame({'quantile': [0.25, 0.5, 0.75]})\n",
    "f4classdf = pd.DataFrame({'quantile': [0.25, 0.5, 0.75]})\n",
    "f5classdf = pd.DataFrame({'quantile': [0.25, 0.5, 0.75]})\n",
    "f6classdf = pd.DataFrame({'quantile': [0.25, 0.5, 0.75]})"
   ]
  },
  {
   "cell_type": "code",
   "execution_count": 17,
   "metadata": {
    "pycharm": {
     "name": "#%%\n"
    }
   },
   "outputs": [],
   "source": [
    "for col in cols:\n",
    "  f2classdf[col] = df_20[col].quantile(q=0.25), df_20[col].quantile(q=0.5), df_20[col].quantile(\n",
    "      q=0.75)\n",
    "  f3classdf[col] = df_30[col].quantile(q=0.25), df_30[col].quantile(q=0.5), df_30[col].quantile(\n",
    "      q=0.75)\n",
    "  f4classdf[col] = df_40[col].quantile(q=0.25), df_40[col].quantile(q=0.5), df_40[col].quantile(\n",
    "      q=0.75)\n",
    "  f5classdf[col] = df_50[col].quantile(q=0.25), df_50[col].quantile(q=0.5), df_50[col].quantile(\n",
    "      q=0.75)\n",
    "  f6classdf[col] = df_60[col].quantile(q=0.25), df_60[col].quantile(q=0.5), df_60[col].quantile(\n",
    "      q=0.75)\n"
   ]
  },
  {
   "cell_type": "code",
   "execution_count": 18,
   "metadata": {
    "pycharm": {
     "name": "#%%\n"
    }
   },
   "outputs": [],
   "source": [
    "cols = ['age', 'height', 'weight', 'bellyCirc', 'waistCirc',\n",
    "        'wristCirc', 'neckCirc', 'ArmLength', 'ThighCirc', 'shoulderWidth',\n",
    "        'Hips', 'armfitCirc', 'inseam', 'bodyLength', 'headCirc', 'hipLength',\n",
    "       'bodyvalue']\n",
    "\n",
    "for col in cols:\n",
    "  f2classdf[col] = df_20[col].quantile(q=0.25), df_20[col].quantile(q=0.5), df_20[col].quantile(\n",
    "      q=0.75)\n",
    "  f3classdf[col] = df_30[col].quantile(q=0.25), df_30[col].quantile(q=0.5), df_30[col].quantile(\n",
    "      q=0.75)\n",
    "  f4classdf[col] = df_40[col].quantile(q=0.25), df_40[col].quantile(q=0.5), df_40[col].quantile(\n",
    "      q=0.75)\n",
    "  f5classdf[col] = df_50[col].quantile(q=0.25), df_50[col].quantile(q=0.5), df_50[col].quantile(\n",
    "      q=0.75)\n",
    "  f6classdf[col] = df_60[col].quantile(q=0.25), df_60[col].quantile(q=0.5), df_60[col].quantile(\n",
    "      q=0.75)"
   ]
  },
  {
   "cell_type": "code",
   "execution_count": 19,
   "metadata": {
    "pycharm": {
     "name": "#%%\n"
    }
   },
   "outputs": [],
   "source": [
    "type20 = ['20srtf','20btf','20rtf','20qf','30avgf']\n",
    "type30 = ['30sqllf','30tf','30bqf','30sqslf','30avgf']\n",
    "type40 = ['40qf','40srtf','40rft','40btf','40avgf']\n",
    "type50 = ['50qf','50tf','50rtf','50avgf']\n",
    "type60 = ['60srtf','60bqf','60qf','60tf','60avgf']"
   ]
  },
  {
   "cell_type": "code",
   "execution_count": 20,
   "metadata": {
    "pycharm": {
     "name": "#%%\n"
    }
   },
   "outputs": [
    {
     "name": "stdout",
     "output_type": "stream",
     "text": [
      "<class 'pandas.core.frame.DataFrame'>\n",
      "Int64Index: 3623 entries, 0 to 3622\n",
      "Data columns (total 18 columns):\n",
      " #   Column         Non-Null Count  Dtype \n",
      "---  ------         --------------  ----- \n",
      " 0   age            3623 non-null   int64 \n",
      " 1   height         3623 non-null   int64 \n",
      " 2   weight         3623 non-null   int64 \n",
      " 3   bellyCirc      3623 non-null   int64 \n",
      " 4   waistCirc      3623 non-null   int64 \n",
      " 5   wristCirc      3623 non-null   int64 \n",
      " 6   neckCirc       3623 non-null   int64 \n",
      " 7   ArmLength      3623 non-null   int64 \n",
      " 8   ThighCirc      3623 non-null   int64 \n",
      " 9   shoulderWidth  3623 non-null   int64 \n",
      " 10  Hips           3623 non-null   int64 \n",
      " 11  armfitCirc     3623 non-null   int64 \n",
      " 12  inseam         3623 non-null   int64 \n",
      " 13  bodyLength     3623 non-null   int64 \n",
      " 14  headCirc       3623 non-null   int64 \n",
      " 15  hipLength      3623 non-null   int64 \n",
      " 16  bodyvalue      3623 non-null   int64 \n",
      " 17  type           3623 non-null   object\n",
      "dtypes: int64(17), object(1)\n",
      "memory usage: 537.8+ KB\n"
     ]
    }
   ],
   "source": [
    "newmaledf = classdf.copy()\n",
    "newmaledf.info()"
   ]
  },
  {
   "cell_type": "code",
   "execution_count": 22,
   "metadata": {
    "pycharm": {
     "name": "#%%\n"
    }
   },
   "outputs": [],
   "source": [
    "for i in range(classdf.shape[0]):\n",
    "    if classdf.iloc[i].age in range(20, 30):\n",
    "        if ((classdf.iloc[i]['bodyvalue'] <= f2classdf['bodyvalue'].iat[1]) & (classdf.iloc[i]['shoulderWidth'] >= f2classdf['shoulderWidth'].iat[1]) & (classdf.iloc[i]['ArmLength'] >= f2classdf['ArmLength'].iat[1]) & (classdf.iloc[i]['hipLength'] <= f2classdf['hipLength'].iat[1]) & (classdf.iloc[i]['inseam'] >= classdf.iloc[i]['bodyLength']) & classdf.iloc[i]['headCirc'] >f2classdf['headCirc'].iat[1]):\n",
    "            classdf.loc[i, 'type'] = type20[0]\n",
    "        elif((classdf.iloc[i]['bodyvalue'] >= f2classdf['bodyvalue'].iat[1]) & (classdf.iloc[i]['ArmLength'] >= f2classdf['ArmLength'].iat[1]) & (classdf.iloc[i]['bodyLength'] >= f2classdf['bodyLength'].iat[1])):\n",
    "            classdf.loc[i, 'type'] = type20[1]\n",
    "        elif ((classdf.iloc[i]['shoulderWidth'] > f2classdf['shoulderWidth'].iat[1]) & (classdf.iloc[i]['ArmLength'] < f2classdf['ArmLength'].iat[1])):\n",
    "            classdf.loc[i, 'type'] = type20[2]\n",
    "#         elif((classdf.iloc[i]['bodyvalue'] <= f2classdf['bodyvalue'].iat[1]) & (classdf.iloc[i]['shoulderWidth'] <= f2classdf['shoulderWidth'].iat[1]) & (classdf['ArmLength'] <= f2classdf['ArmLength'].iat[1])& (classdf.iloc[i]['hipLength'] >= f2classdf['hipLength'].iat[1]) & (classdf.iloc[i]['inseam'] >= classdf.iloc[i]['bodyLength']) & (classdf.iloc[i]['headCirc'] <= f2classdf['headCirc'].iat[1])):\n",
    "#             classdf.loc[i, 'type'] = type20[3]\n",
    "        else:\n",
    "            classdf.loc[i, 'type'] =type20[4]\n",
    "    elif classdf.iloc[i].age in range(30, 40):\n",
    "        if((classdf.iloc[i]['bodyvalue'] <= f3classdf['bodyvalue'].iat[1]) & (classdf.iloc[i]['ArmLength'] >= f3classdf['ArmLength'].iat[1])& (classdf.iloc[i]['hipLength'] <= f3classdf['hipLength'].iat[1]) & (classdf.iloc[i]['inseam'] >= classdf.iloc[i]['bodyLength']) & (classdf.iloc[i]['headCirc'] >f2classdf['headCirc'].iat[1])):\n",
    "            classdf.loc[i, 'type'] = type30[0]\n",
    "        elif((classdf.iloc[i]['ArmLength'] >= f3classdf['ArmLength'].iat[1]) & (classdf.iloc[i]['headCirc'] >f3classdf['headCirc'].iat[1])):\n",
    "            classdf.loc[i, 'type'] =type30[1]\n",
    "        elif((classdf.iloc[i]['bodyvalue'] >= f3classdf['bodyvalue'].iat[2]) & (classdf.iloc[i]['ArmLength'] <= f3classdf['ArmLength'].iat[1])):\n",
    "            classdf.loc[i, 'type'] =type30[2]\n",
    "        elif((classdf.iloc[i]['bodyvalue'] <= f3classdf['bodyvalue'].iat[1]) & (classdf.iloc[i]['ArmLength'] <= f3classdf['ArmLength'].iat[1]) &  (classdf.iloc[i]['hipLength'] >= f3classdf['hipLength'].iat[1]) & (classdf.iloc[i]['inseam'] <= classdf.iloc[i]['bodyLength'])):\n",
    "            classdf.loc[i, 'type'] = type30[3]\n",
    "        else:\n",
    "            classdf.loc[i, 'type'] =type30[4]\n",
    "\n",
    "    elif classdf.iloc[i].age in range(40, 50):\n",
    "        if ((classdf.iloc[i]['ArmLength'] >= f4classdf['ArmLength'].iat[1]) & (classdf.iloc[i]['inseam'] >= classdf.iloc[i]['bodyLength'])):\n",
    "            classdf.loc[i, 'type'] = type40[0]\n",
    "        elif((classdf.iloc[i]['bodyvalue'] <= f4classdf['bodyvalue'].iat[1]) & (classdf.iloc[i]['ArmLength'] >= f4classdf['ArmLength'].iat[1])& (classdf.iloc[i]['hipLength'] <= f4classdf['hipLength'].iat[1]) ):\n",
    "            classdf.loc[i, 'type'] = type40[1]\n",
    "        elif((classdf.iloc[i]['shoulderWidth'] >= f4classdf['shoulderWidth'].iat[1]) & (classdf.iloc[i]['headCirc'] >=f4classdf['headCirc'].iat[1]) &(classdf.iloc[i]['inseam'] <= classdf.iloc[i]['bodyLength'])):\n",
    "            classdf.loc[i, 'type'] = type40[2]\n",
    "        elif((classdf.iloc[i]['bodyvalue'] >= f4classdf['bodyvalue'].iat[1]) & (classdf.iloc[i]['ArmLength'] <= f4classdf['ArmLength'].iat[0]) & (classdf.iloc[i]['shoulderWidth'] <= f4classdf['shoulderWidth'].iat[0])):\n",
    "            classdf.loc[i, 'type'] =type40[3]\n",
    "        else:\n",
    "            classdf.loc[i, 'type'] = type40[4]\n",
    "    elif classdf.iloc[i].age in range(50, 60):\n",
    "        if ((classdf.iloc[i]['bodyvalue'] <= f5classdf['bodyvalue'].iat[1])  & (classdf.iloc[i]['ArmLength'] >= f5classdf['ArmLength'].iat[1])& (classdf.iloc[i]['hipLength'] <= f5classdf['hipLength'].iat[1]) & (classdf.iloc[i]['inseam'] >= classdf.iloc[i]['bodyLength'])):\n",
    "            classdf.loc[i, 'type'] = type50[0]\n",
    "        elif ((classdf.iloc[i]['ArmLength'] >= f5classdf['ArmLength'].iat[1]) & (classdf.iloc[i]['headCirc'] <= f5classdf['headCirc'].iat[1])):\n",
    "            classdf.loc[i, 'type'] =type50[1]\n",
    "        elif((classdf.iloc[i]['bodyvalue'] >= f5classdf['bodyvalue'].iat[2]) & (classdf.iloc[i]['ArmLength'] <= f4classdf['ArmLength'].iat[0]) ):\n",
    "            classdf.loc[i, 'type'] =type50[2]\n",
    "        else:\n",
    "            classdf.loc[i, 'type'] =type50[3]\n",
    "    elif classdf.iloc[i].age in range(60, 70):\n",
    "        if((classdf.iloc[i]['bodyvalue'] <= f6classdf['bodyvalue'].iat[1]) & (classdf.iloc[i]['hipLength'] >= f5classdf['hipLength'].iat[1]) & (classdf.iloc[i]['inseam'] <= classdf.iloc[i]['bodyLength'])):\n",
    "            classdf.loc[i, 'type'] = type60[0]\n",
    "        elif ((classdf.iloc[i]['bodyvalue'] >= f6classdf['bodyvalue'].iat[1])  & (classdf.iloc[i]['shoulderWidth'] >= f6classdf['shoulderWidth'].iat[1])& (classdf.iloc[i]['hipLength'] <= f6classdf['hipLength'].iat[1])):\n",
    "            classdf.loc[i, 'type'] = type60[1]\n",
    "        elif ((classdf.iloc[i]['ArmLength'] >= f6classdf['ArmLength'].iat[1])& (classdf.iloc[i]['hipLength'] >= f6classdf['hipLength'].iat[1])):\n",
    "            classdf.loc[i, 'type'] = type60[2]\n",
    "        elif((classdf.iloc[i]['shoulderWidth'] <= f6classdf['shoulderWidth'].iat[1]) & (classdf.iloc[i]['ArmLength'] <= f6classdf['ArmLength'].iat[1]) & (classdf.iloc[i]['headCirc'] >= f6classdf['headCirc'].iat[1]) & (classdf.iloc[i]['hipLength'] <= f6classdf['hipLength'].iat[1]) & (classdf.iloc[i]['inseam'] >= classdf.iloc[i]['bodyLength'])):\n",
    "            classdf.loc[i, 'type'] = type60[3]\n",
    "        else:\n",
    "            classdf.loc[i, 'type'] = type60[4]"
   ]
  },
  {
   "cell_type": "code",
   "execution_count": 23,
   "metadata": {
    "pycharm": {
     "name": "#%%\n"
    }
   },
   "outputs": [
    {
     "name": "stdout",
     "output_type": "stream",
     "text": [
      "30avgf     939\n",
      "           860\n",
      "40qf       281\n",
      "50avgf     257\n",
      "20btf      173\n",
      "30tf       170\n",
      "40avgf     158\n",
      "60avgf     144\n",
      "60qf       135\n",
      "50tf       116\n",
      "60bqf       76\n",
      "20rtf       68\n",
      "30bqf       59\n",
      "50qf        48\n",
      "30sqllf     40\n",
      "40btf       37\n",
      "50rtf       30\n",
      "60tf        29\n",
      "60srtf       3\n",
      "Name: type, dtype: int64\n"
     ]
    }
   ],
   "source": [
    "print(classdf['type'].value_counts())\n",
    "classdf.to_csv('newfemale.csv')"
   ]
  },
  {
   "cell_type": "code",
   "execution_count": 21,
   "metadata": {
    "pycharm": {
     "name": "#%%\n"
    }
   },
   "outputs": [],
   "source": []
  },
  {
   "cell_type": "code",
   "execution_count": 21,
   "metadata": {},
   "outputs": [],
   "source": []
  },
  {
   "cell_type": "code",
   "execution_count": null,
   "metadata": {
    "pycharm": {
     "name": "#%%\n"
    }
   },
   "outputs": [],
   "source": []
  },
  {
   "cell_type": "code",
   "execution_count": null,
   "metadata": {
    "pycharm": {
     "name": "#%%\n"
    }
   },
   "outputs": [],
   "source": []
  }
 ],
 "metadata": {
  "kernelspec": {
   "display_name": "Python 3",
   "language": "python",
   "name": "python3"
  },
  "language_info": {
   "codemirror_mode": {
    "name": "ipython",
    "version": 3
   },
   "file_extension": ".py",
   "mimetype": "text/x-python",
   "name": "python",
   "nbconvert_exporter": "python",
   "pygments_lexer": "ipython3",
   "version": "3.8.8"
  }
 },
 "nbformat": 4,
 "nbformat_minor": 1
}